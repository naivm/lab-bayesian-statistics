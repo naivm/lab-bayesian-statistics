{
 "cells": [
  {
   "cell_type": "markdown",
   "metadata": {},
   "source": [
    "# Intro to Bayesian Statistics Lab\n",
    "\n",
    "Complete the following set of exercises to solidify your knowledge of Bayesian statistics and Bayesian data analysis."
   ]
  },
  {
   "cell_type": "code",
   "execution_count": 1,
   "metadata": {},
   "outputs": [],
   "source": [
    "import pandas as pd\n",
    "import numpy as np\n",
    "import matplotlib.pyplot as plt"
   ]
  },
  {
   "cell_type": "markdown",
   "metadata": {},
   "source": [
    "## 1. Cookie Problem\n",
    "\n",
    "Suppose we have two bowls of cookies. Bowl 1 contains 30 vanilla cookies and 10 chocolate cookies. Bowl 2 contains 20 of each. You randomly pick one cookie out of one of the bowls, and it is vanilla. Use Bayes Theorem to calculate the probability that the vanilla cookie you picked came from Bowl 1?"
   ]
  },
  {
   "cell_type": "code",
   "execution_count": 2,
   "metadata": {},
   "outputs": [
    {
     "data": {
      "text/plain": [
       "0.6"
      ]
     },
     "execution_count": 2,
     "metadata": {},
     "output_type": "execute_result"
    }
   ],
   "source": [
    " \"\"\"\n",
    "P (A) Prior Probability - probability of A in the first palce (before B)\n",
    "P (B | A) Likelihood - probability of event B after having event A\n",
    "P (B) Marginal Probability - probability of event B at all, with or without A\n",
    "P (A | B) Posterior Probability - probability of having gotten B with A as hypothesis\n",
    "\n",
    "Probability of bowl 1 (A) if we got a vanila (B) = P(A|B)\n",
    "\n",
    "P(A) = 1/2 = 0.5\n",
    "P(B) = 30+20/40+40 = 5/8\n",
    "P(B|A) = 30/40 = 3/4\n",
    "\n",
    "    /V  \n",
    "   c\n",
    " /1 \\C\n",
    "b\n",
    " \\2 /V\n",
    "   c\n",
    "    \\C\n",
    "\"\"\"\n",
    "    \n",
    "P_AB = 0.75*0.5/(5/8)\n",
    "P_AB"
   ]
  },
  {
   "cell_type": "markdown",
   "metadata": {},
   "source": [
    "What is the probability that it came from Bowl 2?"
   ]
  },
  {
   "cell_type": "code",
   "execution_count": 3,
   "metadata": {},
   "outputs": [
    {
     "data": {
      "text/plain": [
       "0.4"
      ]
     },
     "execution_count": 3,
     "metadata": {},
     "output_type": "execute_result"
    }
   ],
   "source": [
    "\"\"\"\n",
    "Probability of bowl 2 (A) if we got a vanila (B) = P(A|B)\n",
    "\n",
    "P(A) = 1/2 = 0.5\n",
    "P(B) = 30+20/40+40 = 5/8\n",
    "P(B|A) = 20/40 = 0.5\n",
    "\n",
    "\"\"\"\n",
    "P_AB2 = 0.5*0.5/(5/8)\n",
    "P_AB2"
   ]
  },
  {
   "cell_type": "markdown",
   "metadata": {},
   "source": [
    "What if the cookie you had picked was chocolate? What are the probabilities that the chocolate cookie came from Bowl 1 and Bowl 2 respectively?"
   ]
  },
  {
   "cell_type": "code",
   "execution_count": 6,
   "metadata": {},
   "outputs": [
    {
     "name": "stdout",
     "output_type": "stream",
     "text": [
      "from bowl 1 is 0.3333333333333333 and from bowl 2 0.6666666666666666\n"
     ]
    }
   ],
   "source": [
    "\"\"\"\n",
    "Probability of bowl 1 (A) if we got a chocolate (B) = P(A|B)\n",
    "\n",
    "P(A) = 1/2 = 0.5\n",
    "P(B) = 10+20/40+40 = 3/8\n",
    "P(B|A) = 10/40 = 0.25\n",
    "\n",
    "Probability of bowl 2 (A) if we got a chocolate (B) = P(A|B)\n",
    "\n",
    "P(A) = 1/2 = 0.5\n",
    "P(B) = 10+20/40+40 = 3/8\n",
    "P(B|A) = 20/40 = 0.25\n",
    "\n",
    "\"\"\"\n",
    "\n",
    "P_ABc = 0.25*0.5/(3/8)\n",
    "P_ABc2 = 0.5*0.5/(3/8)\n",
    "print(\"from bowl 1 is\",P_ABc ,\"and from bowl 2\",P_ABc2)"
   ]
  },
  {
   "cell_type": "markdown",
   "metadata": {},
   "source": [
    "## 2. Candy Problem\n",
    "\n",
    "Suppose you have two bags of candies:\n",
    "\n",
    "- In Bag 1, the mix of colors is:\n",
    "    - Brown - 30%\n",
    "    - Yellow - 20%\n",
    "    - Red - 20%\n",
    "    - Green - 10%\n",
    "    - Orange - 10%\n",
    "    - Tan - 10%\n",
    "    \n",
    "- In Bag 2, the mix of colors is:\n",
    "    - Blue - 24%\n",
    "    - Green - 20%\n",
    "    - Orange - 16%\n",
    "    - Yellow - 14%\n",
    "    - Red - 13%\n",
    "    - Brown - 13%\n",
    "    \n",
    "Not knowing which bag is which, you randomly draw one candy from each bag. One is yellow and one is green. What is the probability that the yellow one came from the Bag 1?\n",
    "\n",
    "*Hint: For the likelihoods, you will need to multiply the probabilities of drawing yellow from one bag and green from the other bag and vice versa.*"
   ]
  },
  {
   "cell_type": "code",
   "execution_count": null,
   "metadata": {},
   "outputs": [],
   "source": [
    "\"\"\"\n",
    "P (A) Prior Probability - probability of A in the first palce (before B)\n",
    "P (B | A) Likelihood - probability of event B after having event A\n",
    "P (B) Marginal Probability - probability of event B at all, with or without A\n",
    "P (A | B) Posterior Probability - probability of having gotten B with A as hypothesis\n",
    "\n",
    "Probability it came from bag 1 (A) if it was yellow (B) = P(A|B)\n",
    "\n",
    "P(A) = 0.5\n",
    "P(B) = 0.2*0.14\n",
    "P(B|A) = 0.2 * 0.2\n",
    "\n",
    "\n",
    "\"\"\""
   ]
  },
  {
   "cell_type": "code",
   "execution_count": 43,
   "metadata": {},
   "outputs": [
    {
     "name": "stdout",
     "output_type": "stream",
     "text": [
      "0.7407407407407408\n"
     ]
    }
   ],
   "source": [
    "P_ABy = 0.2*0.2*0.5/(0.5*(0.1*0.14)+0.5*(0.2*0.2))\n",
    "print(P_ABy)"
   ]
  },
  {
   "cell_type": "markdown",
   "metadata": {},
   "source": [
    "What is the probability that the yellow candy came from Bag 2?"
   ]
  },
  {
   "cell_type": "code",
   "execution_count": 44,
   "metadata": {},
   "outputs": [
    {
     "data": {
      "text/plain": [
       "0.25925925925925924"
      ]
     },
     "execution_count": 44,
     "metadata": {},
     "output_type": "execute_result"
    }
   ],
   "source": [
    "\"\"\"\n",
    "P (A) Prior Probability - probability of A in the first palce (before B)\n",
    "P (B | A) Likelihood - probability of event B after having event A\n",
    "P (B) Marginal Probability - probability of event B at all, with or without A\n",
    "P (A | B) Posterior Probability - probability of having gotten B with A as hypothesis\n",
    "\n",
    "Probability it came from bag 2 (A) if it was yellow  (B) = P(A|B)\n",
    "\n",
    "P(A) = 0.5\n",
    "P(B) = 0.2*0.14\n",
    "P(B|A) = 0.1 * 0.14\n",
    "\n",
    "\"\"\"\n",
    "\n",
    "P_AB2y = (0.1*0.14)*0.5/(0.5*(0.1*0.14)+0.5*(0.2*0.2))\n",
    "P_AB2y\n",
    "\n"
   ]
  },
  {
   "cell_type": "markdown",
   "metadata": {},
   "source": [
    "What are the probabilities that the green one came from Bag 1 and Bag 2 respectively?"
   ]
  },
  {
   "cell_type": "code",
   "execution_count": 45,
   "metadata": {},
   "outputs": [
    {
     "name": "stdout",
     "output_type": "stream",
     "text": [
      "from bag 1 is 0.25925925925925924 and from bag 2 0.7407407407407408\n"
     ]
    }
   ],
   "source": [
    "\"\"\"\n",
    "P (A) Prior Probability - probability of A in the first palce (before B)\n",
    "P (B | A) Likelihood - probability of event B after having event A\n",
    "P (B) Marginal Probability - probability of event B at all, with or without A\n",
    "P (A | B) Posterior Probability - probability of having gotten B with A as hypothesis\n",
    "\n",
    "Probability it came from bag 2 (A) if it was yellow  (B) = P(A|B)\n",
    "\n",
    "P(A) = 0.5\n",
    "P(B) = 0.1*0.20\n",
    "P(B|A) = 0.1 * 0.14\n",
    "\n",
    "\"\"\"\n",
    "P_ABg = (0.1*0.14)*0.5/(0.5*(0.1*0.14)+0.5*(0.2*0.2))\n",
    "P_AB2g = (0.2*0.2)*0.5/(0.5*(0.1*0.14)+0.5*(0.2*0.2))\n",
    "print(\"from bag 1 is\",P_ABg ,\"and from bag 2\",P_AB2g)"
   ]
  },
  {
   "cell_type": "markdown",
   "metadata": {},
   "source": [
    "## 3. Monty Hall Problem\n",
    "\n",
    "Suppose you are a contestant on the popular game show *Let's Make a Deal*. The host of the show (Monty Hall) presents you with three doors - Door A, Door B, and Door C. He tells you that there is a sports car behind one of them and if you choose the correct one, you win the car!\n",
    "\n",
    "You select Door A, but then Monty makes things a little more interesting. He opens Door B to reveal that there is no sports car behind it and asks you if you would like to stick with your choice of Door A or switch your choice to Door C. Given this new information, what are the probabilities of you winning the car if you stick with Door A versus if you switch to Door C?"
   ]
  },
  {
   "cell_type": "code",
   "execution_count": null,
   "metadata": {},
   "outputs": [],
   "source": [
    "'The probability is 2\\3 since once you select a door you kind of \"lock\" the probabilities for the other 2 doors.\"\n",
    "\"Meaning thta once Monty Hall shows you one of teh dpprs the 2\\3 probability is transfered to the last door\""
   ]
  }
 ],
 "metadata": {
  "kernelspec": {
   "display_name": "Python 3",
   "language": "python",
   "name": "python3"
  },
  "language_info": {
   "codemirror_mode": {
    "name": "ipython",
    "version": 3
   },
   "file_extension": ".py",
   "mimetype": "text/x-python",
   "name": "python",
   "nbconvert_exporter": "python",
   "pygments_lexer": "ipython3",
   "version": "3.7.3"
  }
 },
 "nbformat": 4,
 "nbformat_minor": 2
}
